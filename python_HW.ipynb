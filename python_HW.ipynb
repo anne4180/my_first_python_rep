{
 "cells": [
  {
   "cell_type": "markdown",
   "metadata": {},
   "source": [
    "# 使用 Logistic regression 預測 Titanic 乘客的存活機率  \n",
    "### 李宛蒨"
   ]
  },
  {
   "cell_type": "markdown",
   "metadata": {
    "collapsed": true
   },
   "source": [
    "# 1. 讀入資料"
   ]
  },
  {
   "cell_type": "code",
   "execution_count": 2,
   "metadata": {
    "collapsed": false
   },
   "outputs": [
    {
     "name": "stdout",
     "output_type": "stream",
     "text": [
      "(891, 12)\n"
     ]
    },
    {
     "data": {
      "text/html": [
       "<div>\n",
       "<table border=\"1\" class=\"dataframe\">\n",
       "  <thead>\n",
       "    <tr style=\"text-align: right;\">\n",
       "      <th></th>\n",
       "      <th>PassengerId</th>\n",
       "      <th>Survived</th>\n",
       "      <th>Pclass</th>\n",
       "      <th>Name</th>\n",
       "      <th>Sex</th>\n",
       "      <th>Age</th>\n",
       "      <th>SibSp</th>\n",
       "      <th>Parch</th>\n",
       "      <th>Ticket</th>\n",
       "      <th>Fare</th>\n",
       "      <th>Cabin</th>\n",
       "      <th>Embarked</th>\n",
       "    </tr>\n",
       "  </thead>\n",
       "  <tbody>\n",
       "    <tr>\n",
       "      <th>0</th>\n",
       "      <td>1</td>\n",
       "      <td>0</td>\n",
       "      <td>3</td>\n",
       "      <td>Braund, Mr. Owen Harris</td>\n",
       "      <td>male</td>\n",
       "      <td>22.0</td>\n",
       "      <td>1</td>\n",
       "      <td>0</td>\n",
       "      <td>A/5 21171</td>\n",
       "      <td>7.2500</td>\n",
       "      <td>NaN</td>\n",
       "      <td>S</td>\n",
       "    </tr>\n",
       "    <tr>\n",
       "      <th>1</th>\n",
       "      <td>2</td>\n",
       "      <td>1</td>\n",
       "      <td>1</td>\n",
       "      <td>Cumings, Mrs. John Bradley (Florence Briggs Th...</td>\n",
       "      <td>female</td>\n",
       "      <td>38.0</td>\n",
       "      <td>1</td>\n",
       "      <td>0</td>\n",
       "      <td>PC 17599</td>\n",
       "      <td>71.2833</td>\n",
       "      <td>C85</td>\n",
       "      <td>C</td>\n",
       "    </tr>\n",
       "    <tr>\n",
       "      <th>2</th>\n",
       "      <td>3</td>\n",
       "      <td>1</td>\n",
       "      <td>3</td>\n",
       "      <td>Heikkinen, Miss. Laina</td>\n",
       "      <td>female</td>\n",
       "      <td>26.0</td>\n",
       "      <td>0</td>\n",
       "      <td>0</td>\n",
       "      <td>STON/O2. 3101282</td>\n",
       "      <td>7.9250</td>\n",
       "      <td>NaN</td>\n",
       "      <td>S</td>\n",
       "    </tr>\n",
       "  </tbody>\n",
       "</table>\n",
       "</div>"
      ],
      "text/plain": [
       "   PassengerId  Survived  Pclass  \\\n",
       "0            1         0       3   \n",
       "1            2         1       1   \n",
       "2            3         1       3   \n",
       "\n",
       "                                                Name     Sex   Age  SibSp  \\\n",
       "0                            Braund, Mr. Owen Harris    male  22.0      1   \n",
       "1  Cumings, Mrs. John Bradley (Florence Briggs Th...  female  38.0      1   \n",
       "2                             Heikkinen, Miss. Laina  female  26.0      0   \n",
       "\n",
       "   Parch            Ticket     Fare Cabin Embarked  \n",
       "0      0         A/5 21171   7.2500   NaN        S  \n",
       "1      0          PC 17599  71.2833   C85        C  \n",
       "2      0  STON/O2. 3101282   7.9250   NaN        S  "
      ]
     },
     "execution_count": 2,
     "metadata": {},
     "output_type": "execute_result"
    }
   ],
   "source": [
    "import pandas as pd\n",
    "\n",
    "# 讀入資料(Titanic_data)\n",
    "url = \"https://storage.googleapis.com/py_ds_basic/kaggle_titanic_train.csv\"\n",
    "titanic_data = pd.read_csv(url)\n",
    "\n",
    "# 資料筆數、欄位\n",
    "print(titanic_data.shape)\n",
    "titanic_data.head(3) "
   ]
  },
  {
   "cell_type": "markdown",
   "metadata": {
    "collapsed": true
   },
   "source": [
    "# 2. 變數意義及選取"
   ]
  },
  {
   "cell_type": "markdown",
   "metadata": {},
   "source": [
    "變數名稱         變數意義                符號代表  \n",
    "1.survival      Survival              (0 = No; 1 = Yes)  \n",
    "2.sex           Sex  \n",
    "3.age           Age  \n",
    "4.parch         Number of Parents/Children Aboard  \n",
    "5.fare          Passenger Fare  \n",
    "6.pclass        Passenger Class       (1 = 1st; 2 = 2nd; 3 = 3rd)  \n",
    "*socio-economic status (SES) 1st ~ Upper; 2nd ~ Middle; 3rd ~ Lower"
   ]
  },
  {
   "cell_type": "code",
   "execution_count": 3,
   "metadata": {
    "collapsed": false
   },
   "outputs": [
    {
     "name": "stderr",
     "output_type": "stream",
     "text": [
      "C:\\Users\\casey_000\\Anaconda3\\lib\\site-packages\\numpy\\lib\\function_base.py:3834: RuntimeWarning: Invalid value encountered in percentile\n",
      "  RuntimeWarning)\n"
     ]
    },
    {
     "data": {
      "text/html": [
       "<div>\n",
       "<table border=\"1\" class=\"dataframe\">\n",
       "  <thead>\n",
       "    <tr style=\"text-align: right;\">\n",
       "      <th></th>\n",
       "      <th>PassengerId</th>\n",
       "      <th>Survived</th>\n",
       "      <th>Pclass</th>\n",
       "      <th>Age</th>\n",
       "      <th>SibSp</th>\n",
       "      <th>Parch</th>\n",
       "      <th>Fare</th>\n",
       "    </tr>\n",
       "  </thead>\n",
       "  <tbody>\n",
       "    <tr>\n",
       "      <th>count</th>\n",
       "      <td>891.000000</td>\n",
       "      <td>891.000000</td>\n",
       "      <td>891.000000</td>\n",
       "      <td>714.000000</td>\n",
       "      <td>891.000000</td>\n",
       "      <td>891.000000</td>\n",
       "      <td>891.000000</td>\n",
       "    </tr>\n",
       "    <tr>\n",
       "      <th>mean</th>\n",
       "      <td>446.000000</td>\n",
       "      <td>0.383838</td>\n",
       "      <td>2.308642</td>\n",
       "      <td>29.699118</td>\n",
       "      <td>0.523008</td>\n",
       "      <td>0.381594</td>\n",
       "      <td>32.204208</td>\n",
       "    </tr>\n",
       "    <tr>\n",
       "      <th>std</th>\n",
       "      <td>257.353842</td>\n",
       "      <td>0.486592</td>\n",
       "      <td>0.836071</td>\n",
       "      <td>14.526497</td>\n",
       "      <td>1.102743</td>\n",
       "      <td>0.806057</td>\n",
       "      <td>49.693429</td>\n",
       "    </tr>\n",
       "    <tr>\n",
       "      <th>min</th>\n",
       "      <td>1.000000</td>\n",
       "      <td>0.000000</td>\n",
       "      <td>1.000000</td>\n",
       "      <td>0.420000</td>\n",
       "      <td>0.000000</td>\n",
       "      <td>0.000000</td>\n",
       "      <td>0.000000</td>\n",
       "    </tr>\n",
       "    <tr>\n",
       "      <th>25%</th>\n",
       "      <td>223.500000</td>\n",
       "      <td>0.000000</td>\n",
       "      <td>2.000000</td>\n",
       "      <td>NaN</td>\n",
       "      <td>0.000000</td>\n",
       "      <td>0.000000</td>\n",
       "      <td>7.910400</td>\n",
       "    </tr>\n",
       "    <tr>\n",
       "      <th>50%</th>\n",
       "      <td>446.000000</td>\n",
       "      <td>0.000000</td>\n",
       "      <td>3.000000</td>\n",
       "      <td>NaN</td>\n",
       "      <td>0.000000</td>\n",
       "      <td>0.000000</td>\n",
       "      <td>14.454200</td>\n",
       "    </tr>\n",
       "    <tr>\n",
       "      <th>75%</th>\n",
       "      <td>668.500000</td>\n",
       "      <td>1.000000</td>\n",
       "      <td>3.000000</td>\n",
       "      <td>NaN</td>\n",
       "      <td>1.000000</td>\n",
       "      <td>0.000000</td>\n",
       "      <td>31.000000</td>\n",
       "    </tr>\n",
       "    <tr>\n",
       "      <th>max</th>\n",
       "      <td>891.000000</td>\n",
       "      <td>1.000000</td>\n",
       "      <td>3.000000</td>\n",
       "      <td>80.000000</td>\n",
       "      <td>8.000000</td>\n",
       "      <td>6.000000</td>\n",
       "      <td>512.329200</td>\n",
       "    </tr>\n",
       "  </tbody>\n",
       "</table>\n",
       "</div>"
      ],
      "text/plain": [
       "       PassengerId    Survived      Pclass         Age       SibSp  \\\n",
       "count   891.000000  891.000000  891.000000  714.000000  891.000000   \n",
       "mean    446.000000    0.383838    2.308642   29.699118    0.523008   \n",
       "std     257.353842    0.486592    0.836071   14.526497    1.102743   \n",
       "min       1.000000    0.000000    1.000000    0.420000    0.000000   \n",
       "25%     223.500000    0.000000    2.000000         NaN    0.000000   \n",
       "50%     446.000000    0.000000    3.000000         NaN    0.000000   \n",
       "75%     668.500000    1.000000    3.000000         NaN    1.000000   \n",
       "max     891.000000    1.000000    3.000000   80.000000    8.000000   \n",
       "\n",
       "            Parch        Fare  \n",
       "count  891.000000  891.000000  \n",
       "mean     0.381594   32.204208  \n",
       "std      0.806057   49.693429  \n",
       "min      0.000000    0.000000  \n",
       "25%      0.000000    7.910400  \n",
       "50%      0.000000   14.454200  \n",
       "75%      0.000000   31.000000  \n",
       "max      6.000000  512.329200  "
      ]
     },
     "execution_count": 3,
     "metadata": {},
     "output_type": "execute_result"
    }
   ],
   "source": [
    "# 描述性統計\n",
    "titanic_data.describe() # 發現 Age 有 NaN"
   ]
  },
  {
   "cell_type": "markdown",
   "metadata": {},
   "source": [
    "# 3. 填補年齡的遺漏值  \n",
    "### 使用相同的socio-economic status(Pclass)組別之中位數來填補Age變數的遺漏值。"
   ]
  },
  {
   "cell_type": "code",
   "execution_count": 4,
   "metadata": {
    "collapsed": false
   },
   "outputs": [
    {
     "name": "stdout",
     "output_type": "stream",
     "text": [
      "(216, 12)\n",
      "(184, 12)\n",
      "(491, 12)\n",
      "--------------------\n",
      "       PassengerId    Survived  Pclass        Age       SibSp       Parch  \\\n",
      "count   216.000000  216.000000   216.0  216.00000  216.000000  216.000000   \n",
      "mean    461.597222    0.629630     1.0   38.06213    0.416667    0.356481   \n",
      "std     246.737616    0.484026     0.0   13.73797    0.611898    0.693997   \n",
      "min       2.000000    0.000000     1.0    0.92000    0.000000    0.000000   \n",
      "25%     270.750000    0.000000     1.0   29.00000    0.000000    0.000000   \n",
      "50%     472.000000    1.000000     1.0   37.00000    0.000000    0.000000   \n",
      "75%     670.500000    1.000000     1.0   47.25000    1.000000    0.000000   \n",
      "max     890.000000    1.000000     1.0   80.00000    3.000000    4.000000   \n",
      "\n",
      "             Fare  \n",
      "count  216.000000  \n",
      "mean    84.154687  \n",
      "std     78.380373  \n",
      "min      0.000000  \n",
      "25%     30.923950  \n",
      "50%     60.287500  \n",
      "75%     93.500000  \n",
      "max    512.329200  \n"
     ]
    },
    {
     "name": "stderr",
     "output_type": "stream",
     "text": [
      "C:\\Users\\casey_000\\Anaconda3\\lib\\site-packages\\ipykernel\\__main__.py:21: SettingWithCopyWarning: \n",
      "A value is trying to be set on a copy of a slice from a DataFrame.\n",
      "Try using .loc[row_indexer,col_indexer] = value instead\n",
      "\n",
      "See the caveats in the documentation: http://pandas.pydata.org/pandas-docs/stable/indexing.html#indexing-view-versus-copy\n"
     ]
    },
    {
     "data": {
      "image/png": "[encoded data removed]",
      "text/plain": [
       "<matplotlib.figure.Figure at 0x1f9f5fb92b0>"
      ]
     },
     "metadata": {},
     "output_type": "display_data"
    },
    {
     "name": "stderr",
     "output_type": "stream",
     "text": [
      "C:\\Users\\casey_000\\Anaconda3\\lib\\site-packages\\ipykernel\\__main__.py:28: SettingWithCopyWarning: \n",
      "A value is trying to be set on a copy of a slice from a DataFrame.\n",
      "Try using .loc[row_indexer,col_indexer] = value instead\n",
      "\n",
      "See the caveats in the documentation: http://pandas.pydata.org/pandas-docs/stable/indexing.html#indexing-view-versus-copy\n"
     ]
    },
    {
     "name": "stdout",
     "output_type": "stream",
     "text": [
      "       PassengerId    Survived  Pclass         Age       SibSp       Parch  \\\n",
      "count   184.000000  184.000000   184.0  184.000000  184.000000  184.000000   \n",
      "mean    445.956522    0.472826     2.0   29.825163    0.402174    0.380435   \n",
      "std     250.852161    0.500623     0.0   13.575362    0.601633    0.690963   \n",
      "min      10.000000    0.000000     2.0    0.670000    0.000000    0.000000   \n",
      "25%     234.500000    0.000000     2.0   23.000000    0.000000    0.000000   \n",
      "50%     435.500000    0.000000     2.0   29.000000    0.000000    0.000000   \n",
      "75%     668.000000    1.000000     2.0   36.000000    1.000000    1.000000   \n",
      "max     887.000000    1.000000     2.0   70.000000    3.000000    3.000000   \n",
      "\n",
      "             Fare  \n",
      "count  184.000000  \n",
      "mean    20.662183  \n",
      "std     13.417399  \n",
      "min      0.000000  \n",
      "25%     13.000000  \n",
      "50%     14.250000  \n",
      "75%     26.000000  \n",
      "max     73.500000  \n"
     ]
    },
    {
     "data": {
      "image/png": "[encoded data removed]",
      "text/plain": [
       "<matplotlib.figure.Figure at 0x1f9f729ca90>"
      ]
     },
     "metadata": {},
     "output_type": "display_data"
    },
    {
     "name": "stderr",
     "output_type": "stream",
     "text": [
      "C:\\Users\\casey_000\\Anaconda3\\lib\\site-packages\\ipykernel\\__main__.py:35: SettingWithCopyWarning: \n",
      "A value is trying to be set on a copy of a slice from a DataFrame.\n",
      "Try using .loc[row_indexer,col_indexer] = value instead\n",
      "\n",
      "See the caveats in the documentation: http://pandas.pydata.org/pandas-docs/stable/indexing.html#indexing-view-versus-copy\n"
     ]
    },
    {
     "name": "stdout",
     "output_type": "stream",
     "text": [
      "       PassengerId    Survived  Pclass         Age       SibSp       Parch  \\\n",
      "count   491.000000  491.000000   491.0  491.000000  491.000000  491.000000   \n",
      "mean    439.154786    0.242363     3.0   24.824684    0.615071    0.393075   \n",
      "std     264.441453    0.428949     0.0   10.632997    1.374883    0.888861   \n",
      "min       1.000000    0.000000     3.0    0.420000    0.000000    0.000000   \n",
      "25%     200.000000    0.000000     3.0   20.250000    0.000000    0.000000   \n",
      "50%     432.000000    0.000000     3.0   24.000000    0.000000    0.000000   \n",
      "75%     666.500000    0.000000     3.0   29.000000    1.000000    0.000000   \n",
      "max     891.000000    1.000000     3.0   74.000000    8.000000    6.000000   \n",
      "\n",
      "             Fare  \n",
      "count  491.000000  \n",
      "mean    13.675550  \n",
      "std     11.778142  \n",
      "min      0.000000  \n",
      "25%      7.750000  \n",
      "50%      8.050000  \n",
      "75%     15.500000  \n",
      "max     69.550000  \n"
     ]
    },
    {
     "data": {
      "image/png": "[encoded data removed]",
      "text/plain": [
       "<matplotlib.figure.Figure at 0x1f9f45ef4e0>"
      ]
     },
     "metadata": {},
     "output_type": "display_data"
    }
   ],
   "source": [
    "import numpy as np\n",
    "import matplotlib.pyplot as plt\n",
    "\n",
    "#1st ~ Upper; 2nd ~ Middle; 3rd ~ Lower\n",
    "filter = titanic_data[\"Pclass\"]==1\n",
    "Pclass_age_1 = titanic_data[filter]\n",
    "print(Pclass_age_1.shape)\n",
    "\n",
    "filter = titanic_data[\"Pclass\"]==2\n",
    "Pclass_age_2 = titanic_data[filter]\n",
    "print(Pclass_age_2.shape)\n",
    "\n",
    "filter = titanic_data[\"Pclass\"]==3\n",
    "Pclass_age_3 = titanic_data[filter]\n",
    "print(Pclass_age_3.shape)\n",
    "\n",
    "print(\"--------------------\")\n",
    "\n",
    "Pclass1_age_median = np.nanmedian(Pclass_age_1[\"Age\"]) # 要忽略 NaN\n",
    "Pclass1_new_Age = np.where(Pclass_age_1[\"Age\"].isnull(), Pclass1_age_median, Pclass_age_1[\"Age\"])\n",
    "Pclass_age_1[\"Age\"] = Pclass1_new_Age\n",
    "print(Pclass_age_1.describe())\n",
    "plt.hist(Pclass_age_1[\"Age\"])\n",
    "plt.show()\n",
    "\n",
    "Pclass2_age_median = np.nanmedian(Pclass_age_2[\"Age\"]) # 要忽略 NaN\n",
    "Pclass2_new_Age = np.where(Pclass_age_2[\"Age\"].isnull(), Pclass2_age_median, Pclass_age_2[\"Age\"])\n",
    "Pclass_age_2[\"Age\"] = Pclass2_new_Age\n",
    "print(Pclass_age_2.describe())\n",
    "plt.hist(Pclass_age_2[\"Age\"])\n",
    "plt.show()\n",
    "\n",
    "Pclass3_age_median = np.nanmedian(Pclass_age_3[\"Age\"]) # 要忽略 NaN\n",
    "Pclass3_new_Age = np.where(Pclass_age_3[\"Age\"].isnull(), Pclass3_age_median, Pclass_age_3[\"Age\"])\n",
    "Pclass_age_3[\"Age\"] = Pclass3_new_Age\n",
    "print(Pclass_age_3.describe())\n",
    "plt.hist(Pclass_age_3[\"Age\"])\n",
    "plt.show()"
   ]
  },
  {
   "cell_type": "markdown",
   "metadata": {
    "collapsed": true
   },
   "source": [
    "### 合併資料集 Pclass1-Pclass3"
   ]
  },
  {
   "cell_type": "code",
   "execution_count": 18,
   "metadata": {
    "collapsed": false
   },
   "outputs": [
    {
     "name": "stdout",
     "output_type": "stream",
     "text": [
      "(891, 12)\n"
     ]
    },
    {
     "data": {
      "text/html": [
       "<div>\n",
       "<table border=\"1\" class=\"dataframe\">\n",
       "  <thead>\n",
       "    <tr style=\"text-align: right;\">\n",
       "      <th></th>\n",
       "      <th>PassengerId</th>\n",
       "      <th>Survived</th>\n",
       "      <th>Pclass</th>\n",
       "      <th>Age</th>\n",
       "      <th>SibSp</th>\n",
       "      <th>Parch</th>\n",
       "      <th>Fare</th>\n",
       "    </tr>\n",
       "  </thead>\n",
       "  <tbody>\n",
       "    <tr>\n",
       "      <th>count</th>\n",
       "      <td>891.000000</td>\n",
       "      <td>891.000000</td>\n",
       "      <td>891.000000</td>\n",
       "      <td>891.000000</td>\n",
       "      <td>891.000000</td>\n",
       "      <td>891.000000</td>\n",
       "      <td>891.000000</td>\n",
       "    </tr>\n",
       "    <tr>\n",
       "      <th>mean</th>\n",
       "      <td>446.000000</td>\n",
       "      <td>0.383838</td>\n",
       "      <td>2.308642</td>\n",
       "      <td>29.066409</td>\n",
       "      <td>0.523008</td>\n",
       "      <td>0.381594</td>\n",
       "      <td>32.204208</td>\n",
       "    </tr>\n",
       "    <tr>\n",
       "      <th>std</th>\n",
       "      <td>257.353842</td>\n",
       "      <td>0.486592</td>\n",
       "      <td>0.836071</td>\n",
       "      <td>13.244532</td>\n",
       "      <td>1.102743</td>\n",
       "      <td>0.806057</td>\n",
       "      <td>49.693429</td>\n",
       "    </tr>\n",
       "    <tr>\n",
       "      <th>min</th>\n",
       "      <td>1.000000</td>\n",
       "      <td>0.000000</td>\n",
       "      <td>1.000000</td>\n",
       "      <td>0.420000</td>\n",
       "      <td>0.000000</td>\n",
       "      <td>0.000000</td>\n",
       "      <td>0.000000</td>\n",
       "    </tr>\n",
       "    <tr>\n",
       "      <th>25%</th>\n",
       "      <td>223.500000</td>\n",
       "      <td>0.000000</td>\n",
       "      <td>2.000000</td>\n",
       "      <td>22.000000</td>\n",
       "      <td>0.000000</td>\n",
       "      <td>0.000000</td>\n",
       "      <td>7.910400</td>\n",
       "    </tr>\n",
       "    <tr>\n",
       "      <th>50%</th>\n",
       "      <td>446.000000</td>\n",
       "      <td>0.000000</td>\n",
       "      <td>3.000000</td>\n",
       "      <td>26.000000</td>\n",
       "      <td>0.000000</td>\n",
       "      <td>0.000000</td>\n",
       "      <td>14.454200</td>\n",
       "    </tr>\n",
       "    <tr>\n",
       "      <th>75%</th>\n",
       "      <td>668.500000</td>\n",
       "      <td>1.000000</td>\n",
       "      <td>3.000000</td>\n",
       "      <td>37.000000</td>\n",
       "      <td>1.000000</td>\n",
       "      <td>0.000000</td>\n",
       "      <td>31.000000</td>\n",
       "    </tr>\n",
       "    <tr>\n",
       "      <th>max</th>\n",
       "      <td>891.000000</td>\n",
       "      <td>1.000000</td>\n",
       "      <td>3.000000</td>\n",
       "      <td>80.000000</td>\n",
       "      <td>8.000000</td>\n",
       "      <td>6.000000</td>\n",
       "      <td>512.329200</td>\n",
       "    </tr>\n",
       "  </tbody>\n",
       "</table>\n",
       "</div>"
      ],
      "text/plain": [
       "       PassengerId    Survived      Pclass         Age       SibSp  \\\n",
       "count   891.000000  891.000000  891.000000  891.000000  891.000000   \n",
       "mean    446.000000    0.383838    2.308642   29.066409    0.523008   \n",
       "std     257.353842    0.486592    0.836071   13.244532    1.102743   \n",
       "min       1.000000    0.000000    1.000000    0.420000    0.000000   \n",
       "25%     223.500000    0.000000    2.000000   22.000000    0.000000   \n",
       "50%     446.000000    0.000000    3.000000   26.000000    0.000000   \n",
       "75%     668.500000    1.000000    3.000000   37.000000    1.000000   \n",
       "max     891.000000    1.000000    3.000000   80.000000    8.000000   \n",
       "\n",
       "            Parch        Fare  \n",
       "count  891.000000  891.000000  \n",
       "mean     0.381594   32.204208  \n",
       "std      0.806057   49.693429  \n",
       "min      0.000000    0.000000  \n",
       "25%      0.000000    7.910400  \n",
       "50%      0.000000   14.454200  \n",
       "75%      0.000000   31.000000  \n",
       "max      6.000000  512.329200  "
      ]
     },
     "execution_count": 18,
     "metadata": {},
     "output_type": "execute_result"
    }
   ],
   "source": [
    "titanic_data1= [Pclass_age_1,Pclass_age_2,Pclass_age_3]\n",
    "titanic_data2 = pd.concat(titanic_data1)\n",
    "print(titanic_data2.shape)\n",
    "titanic_data2.describe()\n",
    "#titanic_data2.head(3) "
   ]
  },
  {
   "cell_type": "markdown",
   "metadata": {},
   "source": [
    "# 4. 資料分析 Logistic regression\n",
    "### 將類別變數轉換成 dummy variables\n"
   ]
  },
  {
   "cell_type": "code",
   "execution_count": 15,
   "metadata": {
    "collapsed": false
   },
   "outputs": [],
   "source": [
    "from sklearn import preprocessing\n",
    "\n",
    "label_encoder = preprocessing.LabelEncoder()\n",
    "#survival sex age parch fare pclass\n",
    "encoded_Sex = label_encoder.fit_transform(titanic_data2[\"Sex\"])\n",
    "encoded_Pclass = label_encoder.fit_transform(titanic_data2[\"Pclass\"])"
   ]
  },
  {
   "cell_type": "markdown",
   "metadata": {},
   "source": [
    "### 建立資料矩正 : X 與 Y"
   ]
  },
  {
   "cell_type": "code",
   "execution_count": 28,
   "metadata": {
    "collapsed": false
   },
   "outputs": [],
   "source": [
    "age=titanic_data2[\"Age\"]\n",
    "parch=titanic_data2[\"Parch\"]\n",
    "fare=titanic_data2[\"Fare\"]\n",
    "\n",
    "titanic_X = pd.DataFrame([encoded_Pclass,\n",
    "                          encoded_Sex,\n",
    "                          age,\n",
    "                          parch,\n",
    "                          fare                     \n",
    "                         ]).T\n",
    "\n",
    "titanic_y = titanic_data2[\"Survived\"]"
   ]
  },
  {
   "cell_type": "markdown",
   "metadata": {},
   "source": [
    "### 切分訓練與測試資料\n",
    "使用變數Sex,Pclass,Age,parch,fare來預測Survived。  \n",
    "並計算不同比例的訓練與測試資料之。"
   ]
  },
  {
   "cell_type": "code",
   "execution_count": 88,
   "metadata": {
    "collapsed": false
   },
   "outputs": [
    {
     "name": "stdout",
     "output_type": "stream",
     "text": [
      "訓練資料比例 0.1 準確率 0.811111111111\n",
      "訓練資料比例 0.2 準確率 0.826815642458\n",
      "訓練資料比例 0.3 準確率 0.828358208955\n",
      "訓練資料比例 0.4 準確率 0.798319327731\n",
      "訓練資料比例 0.5 準確率 0.789237668161\n"
     ]
    }
   ],
   "source": [
    "cut_list = range(1,10)\n",
    "\n",
    "from sklearn import metrics, linear_model\n",
    "\n",
    "for i in cut_list:\n",
    "    if (i > 5):\n",
    "        break\n",
    "    else:\n",
    "        trainX,testX,trainy,testy = train_test_split(titanic_X, titanic_y, test_size = i/10)\n",
    "        # 建立模型\n",
    "        logistic_regr = linear_model.LogisticRegression()\n",
    "        logistic_regr.fit(trainX, trainy)\n",
    "\n",
    "        # 預測\n",
    "        test_y_predicted = logistic_regr.predict(testX)\n",
    "\n",
    "        # 準確率\n",
    "        accuracy = metrics.accuracy_score(testy, test_y_predicted)\n",
    "        \n",
    "\n",
    "        print(\"訓練資料比例\",i/10,\"準確率\",accuracy)\n",
    "\n"
   ]
  }
 ],
 "metadata": {
  "kernelspec": {
   "display_name": "Python 3",
   "language": "python",
   "name": "python3"
  },
  "language_info": {
   "codemirror_mode": {
    "name": "ipython",
    "version": 3
   },
   "file_extension": ".py",
   "mimetype": "text/x-python",
   "name": "python",
   "nbconvert_exporter": "python",
   "pygments_lexer": "ipython3",
   "version": "3.5.2"
  }
 },
 "nbformat": 4,
 "nbformat_minor": 1
}
