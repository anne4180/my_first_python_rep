{
 "cells": [
  {
   "cell_type": "code",
   "execution_count": 1,
   "metadata": {},
   "outputs": [
    {
     "name": "stdout",
     "output_type": "stream",
     "text": [
      "=== 今日套餐選項 ===\n",
      "A\n",
      "B\n",
      "C\n",
      "================\n"
     ]
    }
   ],
   "source": [
    "print('=== 今日套餐選項 ===')\n",
    "print('1.')\n",
    "print('2.')\n",
    "print('3.')\n",
    "print('================')"
   ]
  },
  {
   "cell_type": "code",
   "execution_count": 3,
   "metadata": {},
   "outputs": [
    {
     "name": "stdout",
     "output_type": "stream",
     "text": [
      "請輸入序號查詢蛋糕價錢3\n",
      "C 40\n"
     ]
    }
   ],
   "source": [
    "num=input('請輸入序號查詢蛋糕價錢')\n",
    "if int(num)==1:\n",
    "    print('A',15)\n",
    "elif int(num)==2:\n",
    "    print('B',20)\n",
    "elif int(num)==3:\n",
    "    print('C',40)\n",
    "else:\n",
    "    print('今日沒有你選擇的套餐')"
   ]
  },
  {
   "cell_type": "code",
   "execution_count": null,
   "metadata": {
    "collapsed": true
   },
   "outputs": [],
   "source": []
  }
 ],
 "metadata": {
  "kernelspec": {
   "display_name": "Python 3",
   "language": "python",
   "name": "python3"
  },
  "language_info": {
   "codemirror_mode": {
    "name": "ipython",
    "version": 3
   },
   "file_extension": ".py",
   "mimetype": "text/x-python",
   "name": "python",
   "nbconvert_exporter": "python",
   "pygments_lexer": "ipython3",
   "version": "3.6.1"
  }
 },
 "nbformat": 4,
 "nbformat_minor": 2
}
